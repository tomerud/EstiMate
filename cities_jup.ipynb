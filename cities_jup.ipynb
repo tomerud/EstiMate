{
  "cells": [
    {
      "cell_type": "markdown",
      "source": [
        "### Introduction\n",
        "\n",
        "We have a MySQL database named `cities`, which contains a table called `cities` with data on 51 popular tourist destinations worldwide. This table includes:\n",
        "- City names\n",
        "- Geographical locations (latitude and longitude)\n",
        "- Development ranking (HDI)\n",
        "- Primary religion\n",
        "- Language spoken\n",
        "\n",
        "These attributes allow us to analyze and compare cities based on cultural, economic, and geographical similarities.\n"
      ],
      "metadata": {
        "id": "5e0Wbukiv3-G"
      },
      "id": "5e0Wbukiv3-G"
    },
    {
      "cell_type": "markdown",
      "source": [
        "### Step 1: Visualizing the Data\n",
        "\n",
        "To gain insights into the data and its distribution, we’ll create some visualizations:\n",
        "1. **City Locations on a World Map**: Visualizes the geographic distribution of the cities.\n",
        "2. **HDI Distribution**: Shows the distribution of cities' HDI values.\n",
        "3. **Religion and Language Breakdown**: Visualizes the cultural diversity in terms of religion and language.\n"
      ],
      "metadata": {
        "id": "5N0QWoq8v-fW"
      },
      "id": "5N0QWoq8v-fW"
    }
  ],
  "metadata": {
    "kernelspec": {
      "display_name": "Python 3 (ipykernel)",
      "language": "python",
      "name": "python3"
    },
    "language_info": {
      "codemirror_mode": {
        "name": "ipython",
        "version": 3
      },
      "file_extension": ".py",
      "mimetype": "text/x-python",
      "name": "python",
      "nbconvert_exporter": "python",
      "pygments_lexer": "ipython3",
      "version": "3.11.4"
    },
    "colab": {
      "provenance": []
    }
  },
  "nbformat": 4,
  "nbformat_minor": 5
}