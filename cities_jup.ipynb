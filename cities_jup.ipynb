{
  "cells": [
    {
      "cell_type": "code",
      "execution_count": null,
      "id": "ced636aa-8f81-42d8-9514-f2a6a4449886",
      "metadata": {
        "id": "ced636aa-8f81-42d8-9514-f2a6a4449886",
        "outputId": "8acf711e-8af2-4e9b-a6c2-0ab87deb9b29"
      },
      "outputs": [
        {
          "name": "stdout",
          "output_type": "stream",
          "text": [
            "hello\n"
          ]
        }
      ],
      "source": [
        "print(\"helloo\")"
      ]
    },
    {
      "cell_type": "code",
      "execution_count": null,
      "id": "c73bdadb-5330-436d-961c-78c5c94f76b6",
      "metadata": {
        "id": "c73bdadb-5330-436d-961c-78c5c94f76b6"
      },
      "outputs": [],
      "source": [
        "fefje"
      ]
    }
  ],
  "metadata": {
    "kernelspec": {
      "display_name": "Python 3 (ipykernel)",
      "language": "python",
      "name": "python3"
    },
    "language_info": {
      "codemirror_mode": {
        "name": "ipython",
        "version": 3
      },
      "file_extension": ".py",
      "mimetype": "text/x-python",
      "name": "python",
      "nbconvert_exporter": "python",
      "pygments_lexer": "ipython3",
      "version": "3.11.4"
    },
    "colab": {
      "provenance": []
    }
  },
  "nbformat": 4,
  "nbformat_minor": 5
}